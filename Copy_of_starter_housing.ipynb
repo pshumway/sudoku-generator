{
  "cells": [
    {
      "cell_type": "markdown",
      "metadata": {
        "id": "view-in-github",
        "colab_type": "text"
      },
      "source": [
        "<a href=\"https://colab.research.google.com/github/pshumway/sudoku-generator/blob/main/Copy_of_starter_housing.ipynb\" target=\"_parent\"><img src=\"https://colab.research.google.com/assets/colab-badge.svg\" alt=\"Open In Colab\"/></a>"
      ]
    },
    {
      "cell_type": "code",
      "execution_count": null,
      "metadata": {
        "id": "_T-fpTjmHXxo",
        "outputId": "6c95fc97-4a9e-42df-e4c1-5b2078a39a55",
        "colab": {
          "base_uri": "https://localhost:8080/"
        }
      },
      "outputs": [
        {
          "output_type": "stream",
          "name": "stdout",
          "text": [
            "Collecting scikit-learn==1.5.2\n",
            "  Downloading scikit_learn-1.5.2-cp311-cp311-manylinux_2_17_x86_64.manylinux2014_x86_64.whl.metadata (13 kB)\n",
            "Requirement already satisfied: numpy>=1.19.5 in /usr/local/lib/python3.11/dist-packages (from scikit-learn==1.5.2) (1.26.4)\n",
            "Requirement already satisfied: scipy>=1.6.0 in /usr/local/lib/python3.11/dist-packages (from scikit-learn==1.5.2) (1.13.1)\n",
            "Requirement already satisfied: joblib>=1.2.0 in /usr/local/lib/python3.11/dist-packages (from scikit-learn==1.5.2) (1.4.2)\n",
            "Requirement already satisfied: threadpoolctl>=3.1.0 in /usr/local/lib/python3.11/dist-packages (from scikit-learn==1.5.2) (3.5.0)\n",
            "Downloading scikit_learn-1.5.2-cp311-cp311-manylinux_2_17_x86_64.manylinux2014_x86_64.whl (13.3 MB)\n",
            "\u001b[2K   \u001b[90m━━━━━━━━━━━━━━━━━━━━━━━━━━━━━━━━━━━━━━━━\u001b[0m \u001b[32m13.3/13.3 MB\u001b[0m \u001b[31m39.6 MB/s\u001b[0m eta \u001b[36m0:00:00\u001b[0m\n",
            "\u001b[?25hInstalling collected packages: scikit-learn\n",
            "  Attempting uninstall: scikit-learn\n",
            "    Found existing installation: scikit-learn 1.6.1\n",
            "    Uninstalling scikit-learn-1.6.1:\n",
            "      Successfully uninstalled scikit-learn-1.6.1\n",
            "Successfully installed scikit-learn-1.5.2\n"
          ]
        }
      ],
      "source": [
        "!pip install scikit-learn==1.5.2"
      ]
    },
    {
      "cell_type": "code",
      "execution_count": null,
      "metadata": {
        "id": "mA0HPVmIBT4C"
      },
      "outputs": [],
      "source": [
        "import numpy as np\n",
        "import pandas as pd\n",
        "import matplotlib.pyplot as plt\n",
        "import seaborn as sns\n",
        "\n",
        "from sklearn.model_selection import train_test_split\n",
        "from sklearn.ensemble import GradientBoostingRegressor\n",
        "from sklearn.metrics import mean_squared_error, r2_score\n",
        "\n",
        "housing = pd.read_csv('https://raw.githubusercontent.com/byui-cse/cse450-course/master/data/housing.csv')"
      ]
    },
    {
      "cell_type": "code",
      "execution_count": null,
      "metadata": {
        "id": "StiU5QcPPxqQ"
      },
      "outputs": [],
      "source": [
        "# Load the dataset\n",
        "Housing = pd.read_csv(\"https://raw.githubusercontent.com/byui-cse/cse450-course/master/data/housing.csv\")  # Replace with your actual file\n",
        "\n",
        "# Display basic information\n",
        "print(Housing.info())\n",
        "print(Housing.describe())\n",
        "\n",
        "# Check for missing values\n",
        "print(Housing.isnull().sum())\n"
      ]
    },
    {
      "cell_type": "code",
      "execution_count": null,
      "metadata": {
        "id": "ALLMN63FPyEQ"
      },
      "outputs": [],
      "source": [
        "print(Housing.head(10))\n",
        "\n",
        "plt.figure(figsize=(6, 5))\n",
        "plt.boxplot(Housing['price'], vert=True, patch_artist=True)\n",
        "plt.show()"
      ]
    },
    {
      "cell_type": "code",
      "execution_count": null,
      "metadata": {
        "id": "RnGBwGVZPyyh"
      },
      "outputs": [],
      "source": [
        "# Drop rows with missing values (if applicable)\n",
        "Housing = Housing.dropna()\n",
        "\n",
        "# Convert categorical features to numeric using one-hot encoding\n",
        "Housing = pd.get_dummies(Housing, drop_first=True)\n",
        "\n",
        "# Define features and target variable\n",
        "X = Housing.drop(columns=['price'])  # Assume 'price' is the column we want to predict\n",
        "y = Housing['price']\n",
        "\n",
        "# Split into training and testing sets (80% train, 20% test)\n",
        "X_train, X_test, y_train, y_test = train_test_split(X, y, test_size=0.2, random_state=42)"
      ]
    },
    {
      "cell_type": "code",
      "execution_count": null,
      "metadata": {
        "id": "CVSfaqgKPzE2"
      },
      "outputs": [],
      "source": [
        "# Initialize the Gradient Boosting Regressor\n",
        "gbr = GradientBoostingRegressor(n_estimators=200, learning_rate=0.1, max_depth=5, random_state=42)\n",
        "\n",
        "# Train the model\n",
        "gbr.fit(X_train, y_train)\n"
      ]
    },
    {
      "cell_type": "code",
      "source": [
        "# Make predictions on the test set\n",
        "y_pred = gbr.predict(X_test)\n",
        "\n",
        "# Compute performance metrics\n",
        "mse = mean_squared_error(y_test, y_pred)\n",
        "rmse = np.sqrt(mse)\n",
        "r2 = r2_score(y_test, y_pred)\n",
        "\n",
        "print(f\"Mean Squared Error (MSE): {mse:.2f}\")\n",
        "print(f\"Root Mean Squared Error (RMSE): {rmse:.2f}\")\n",
        "print(f\"R-squared (R²): {r2:.2f}\")"
      ],
      "metadata": {
        "id": "_gk1fuB3HgPO"
      },
      "execution_count": null,
      "outputs": []
    },
    {
      "cell_type": "code",
      "source": [
        "plt.figure(figsize=(8, 6))\n",
        "sns.scatterplot(x=y_test, y=y_pred)\n",
        "plt.xlabel(\"Actual Prices\")\n",
        "plt.ylabel(\"Predicted Prices\")\n",
        "plt.title(\"Actual vs. Predicted House Prices\")\n",
        "plt.show()"
      ],
      "metadata": {
        "id": "Q2lBSoywHh4m"
      },
      "execution_count": null,
      "outputs": []
    },
    {
      "cell_type": "code",
      "source": [
        "# Get feature importance scores\n",
        "feature_importance = pd.Series(gbr.feature_importances_, index=X.columns)\n",
        "\n",
        "# Sort feature importance in descending order and plot\n",
        "plt.figure(figsize=(10, 6))\n",
        "feature_importance.sort_values(ascending=False).plot(kind=\"bar\")\n",
        "plt.title(\"Feature Importance in Gradient Boosting Model\")\n",
        "plt.xlabel(\"Features\")\n",
        "plt.ylabel(\"Importance Score\")\n",
        "plt.show()"
      ],
      "metadata": {
        "id": "atAYc34cHjoI"
      },
      "execution_count": null,
      "outputs": []
    }
  ],
  "metadata": {
    "colab": {
      "provenance": [],
      "include_colab_link": true
    },
    "kernelspec": {
      "display_name": "Python 3",
      "name": "python3"
    }
  },
  "nbformat": 4,
  "nbformat_minor": 0
}